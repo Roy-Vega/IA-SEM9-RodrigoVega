{
 "cells": [
  {
   "cell_type": "code",
   "execution_count": 1,
   "id": "51d393f4-6aaf-419f-8711-42c5967fb96e",
   "metadata": {},
   "outputs": [],
   "source": [
    "import numpy as np\n",
    "import cv2 as cv\n",
    "import math "
   ]
  },
  {
   "cell_type": "code",
   "execution_count": 3,
   "id": "cdd84ea1-11a2-4a12-ab4b-4236f830f156",
   "metadata": {},
   "outputs": [],
   "source": [
    "def escala(imx, escala):\n",
    "    #width = int (imx.shape[1] * escala / 100) #escalo el porcentaje de ancho\n",
    "    #height = int (imx.shape[0] * escala / 100) #escalo el porcentaje de alto\n",
    "    #size= (width, height) #\n",
    "    #im = cv.resize (imx, size, interpolation = cv.INTER_AREA) #resize (img, nuevo tamaño, tipo de interpolacion) \n",
    "    \n",
    "    size = (escala, escala)\n",
    "    im = cv.resize(imx, size, interpolation=cv.INTER_AREA)\n",
    "    return im\n",
    "    # - resize: escalar positivamente o negativamente\n",
    "    # - interpocation: rellenar espacios de img.\n",
    "    # - cv.INTER_AREA: dice como llenar huecos de img\n",
    "    \n"
   ]
  },
  {
   "cell_type": "code",
   "execution_count": 5,
   "id": "16e2740d-98c0-46ce-a377-eefe0f30d6c4",
   "metadata": {},
   "outputs": [],
   "source": [
    " cap = cv.VideoCapture(r\"C:\\Users\\rovega\\Desktop\\ITM\\Sem 9\\Inteligencia Artificial\\IA - Actividades NO GIT\\Convolucion\\CodigoSportImages\\Video\\asalto1.mp4\")\n",
    "i=0\n",
    "while True:\n",
    "    ret, frame = cap.read()\n",
    "    \n",
    "    # Aplicar la función de escala\n",
    "    img_rescaled = escala(frame, 28)  # Escalar a los pixeles que se quiera, en esta caso 28x28\n",
    "    \n",
    "    cv.imshow('img', frame)\n",
    "    k = cv.waitKey(1)\n",
    "    #if k == ord('a'):\n",
    "    i=i+1    \n",
    "    cv.imwrite(r'C:\\Users\\rovega\\Desktop\\ITM\\Sem 9\\Inteligencia Artificial\\IA - Actividades NO GIT\\Convolucion\\CodigoSportImages\\Video\\asalto\\asalto'+str(i)+'.jpg', img_rescaled )\n",
    "    if k == 27:\n",
    "        break\n",
    "cap.release()\n",
    "cv.destroyAllWindows()"
   ]
  },
  {
   "cell_type": "code",
   "execution_count": null,
   "id": "009a4b34-09ac-4b92-8688-14cb0af2d6d1",
   "metadata": {},
   "outputs": [],
   "source": []
  }
 ],
 "metadata": {
  "kernelspec": {
   "display_name": "Python 3 (ipykernel)",
   "language": "python",
   "name": "python3"
  },
  "language_info": {
   "codemirror_mode": {
    "name": "ipython",
    "version": 3
   },
   "file_extension": ".py",
   "mimetype": "text/x-python",
   "name": "python",
   "nbconvert_exporter": "python",
   "pygments_lexer": "ipython3",
   "version": "3.11.8"
  }
 },
 "nbformat": 4,
 "nbformat_minor": 5
}
