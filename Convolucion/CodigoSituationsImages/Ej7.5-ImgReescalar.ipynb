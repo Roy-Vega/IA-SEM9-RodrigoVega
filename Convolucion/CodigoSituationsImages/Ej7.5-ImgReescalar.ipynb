{
 "cells": [
  {
   "cell_type": "code",
   "execution_count": 4,
   "id": "51d393f4-6aaf-419f-8711-42c5967fb96e",
   "metadata": {},
   "outputs": [],
   "source": [
    "import cv2 as cv\n",
    "import numpy as np\n",
    "import os"
   ]
  },
  {
   "cell_type": "code",
   "execution_count": 17,
   "id": "cdd84ea1-11a2-4a12-ab4b-4236f830f156",
   "metadata": {},
   "outputs": [],
   "source": [
    "def escala(imx, escala):\n",
    "    #width = int (imx.shape[1] * escala / 100) #escalo el porcentaje de ancho\n",
    "    #height = int (imx.shape[0] * escala / 100) #escalo el porcentaje de alto\n",
    "    #size= (width, height) #\n",
    "    #im = cv.resize (imx, size, interpolation = cv.INTER_AREA) #resize (img, nuevo tamaño, tipo de interpolacion) \n",
    "    \n",
    "    size = (escala, escala)\n",
    "    im = cv.resize(imx, size, interpolation=cv.INTER_AREA)\n",
    "    return im\n",
    "    # - resize: escalar positivamente o negativamente\n",
    "    # - interpocation: rellenar espacios de img.\n",
    "    # - cv.INTER_AREA: dice como llenar huecos de img\n",
    "    \n"
   ]
  },
  {
   "cell_type": "code",
   "execution_count": 22,
   "id": "9dbfd095-79f4-43e7-94b1-96bf6f781db7",
   "metadata": {},
   "outputs": [],
   "source": [
    "\n",
    "# Carpeta de entrada y salida\n",
    "folder_input = r'C:\\Users\\rovega\\Desktop\\ITM\\Sem 9\\Inteligencia Artificial\\IA - Actividades NO GIT\\Convolucion\\CodigoSportImages\\Testing Red - Fotos\\robo'\n",
    "folder_output = r'C:\\Users\\rovega\\Desktop\\ITM\\Sem 9\\Inteligencia Artificial\\IA - Actividades NO GIT\\Convolucion\\CodigoSportImages\\Testing Red - Fotos\\robo'\n",
    "\n",
    "# Asegúrate de que la carpeta de salida exista\n",
    "if not os.path.exists(folder_output):\n",
    "    os.makedirs(folder_output)\n",
    "    \n",
    "    \n",
    "# Iterar sobre cada archivo en la carpeta de entrada\n",
    "for x in os.listdir(folder_input):\n",
    "\n",
    "     # Construir la ruta completa para la imagen de entrada\n",
    "    input_path = os.path.join(folder_input, x)\n",
    "    \n",
    "    # Leer la imagen\n",
    "    img = cv.imread(input_path)\n",
    "    \n",
    "    # Aplicar la función de escala\n",
    "    img_rescaled = escala(img, 28)  # Escalar a los pixeles que se quiera, en esta caso 50x50\n",
    "    \n",
    "    \n",
    "    \n",
    "    # Construir la ruta completa para la imagen de salida\n",
    "    output_path = os.path.join(folder_output, x)\n",
    "    \n",
    "    # Guardar la imagen escalada en la carpeta de salida\n",
    "    cv.imwrite(output_path, img_rescaled)"
   ]
  },
  {
   "cell_type": "code",
   "execution_count": null,
   "id": "16e2740d-98c0-46ce-a377-eefe0f30d6c4",
   "metadata": {},
   "outputs": [],
   "source": []
  }
 ],
 "metadata": {
  "kernelspec": {
   "display_name": "Python 3 (ipykernel)",
   "language": "python",
   "name": "python3"
  },
  "language_info": {
   "codemirror_mode": {
    "name": "ipython",
    "version": 3
   },
   "file_extension": ".py",
   "mimetype": "text/x-python",
   "name": "python",
   "nbconvert_exporter": "python",
   "pygments_lexer": "ipython3",
   "version": "3.11.8"
  }
 },
 "nbformat": 4,
 "nbformat_minor": 5
}
