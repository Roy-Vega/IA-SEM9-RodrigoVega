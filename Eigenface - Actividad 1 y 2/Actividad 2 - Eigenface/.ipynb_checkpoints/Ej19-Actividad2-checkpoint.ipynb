{
 "cells": [
  {
   "cell_type": "code",
   "execution_count": null,
   "id": "51d393f4-6aaf-419f-8711-42c5967fb96e",
   "metadata": {},
   "outputs": [],
   "source": [
    "import numpy as np\n",
    "import cv2 as cv \n",
    "import os #manipular archivos q tengamos en carpeta especifica, dar ruta, donde tenemos nuestras img\n"
   ]
  },
  {
   "cell_type": "code",
   "execution_count": null,
   "id": "2be04f2f-7863-495f-b955-24f74c2d50c3",
   "metadata": {},
   "outputs": [],
   "source": [
    "#GENERAR MODELO, por caras de personas\n",
    "\n",
    "# Folder de caras, dentro hay otro folder \"actividad2\", dentro hay mas folders, de cada persona, o de cada sentimiento, para que ponga etiquetas a cada uno\n",
    "dataSet =  r'C:\\Users\\rovega\\Desktop\\ITM\\Sem 9\\Inteligencia Artificial\\IA - Actividades NO GIT\\caras\\actividad2'\n",
    "faces = os.listdir(dataSet) #Guarda en una lista, el nombre de las carpetas de donde se va a entrenar\n",
    "print(faces) #Imprime lista de carpetas\n",
    "\n",
    "# Lista para guardar las etiquetas \n",
    "labels = [] #lista de labels , cuando encuentra carpeta, le pone una etiqueta, si encuentra otra carpeta le pone otra etiqueta.\n",
    "#aprendizaje supervisado: esta cara es mia de roy, y le pone etiquetas\n",
    "#aprendizja no supervisado: tendria que adivinar las img\n",
    "\n",
    "# Lista para guardar los rostros\n",
    "facesData = [] #fisherface necesita dos carpetas (dos etiquetas)\n",
    "label = 0\n",
    "\n",
    "#si tengo un directorio con caras, recorro cada uno y cada uno de ellos pertence a esos conjuntos\n",
    "#cada carpeta [roy] [pepe] [juan] la recorro \n",
    "for face in faces: #todo este conjunto pertence a etiqueta 1, genera labels a cada conjunto de img\n",
    "    \n",
    "    facePath = dataSet+'\\\\'+face #muevo por directorio\n",
    "    #facePath = os.path.join(dataSet, face)\n",
    "    \n",
    "    if os.path.isdir(facePath):  # Check if it's a directory\n",
    "        \n",
    "        for faceName in os.listdir(facePath): #Itera sobre rostros de cada carpeta de cada persona \n",
    "            labels.append(label)\n",
    "            facesData.append(cv.imread(facePath+'/'+faceName,0)) # agregar la img del rostro y su etiqeuta correspondiendo a la lista\n",
    "        label = label + 1 #incrementar etiqueta para sig persona.\n",
    "print(np.count_nonzero(np.array(labels)==0))\n",
    "\n",
    "faceRecognizer = cv.face.EigenFaceRecognizer_create()\n",
    "\n",
    " #TARDA EN ENTRENAR \n",
    "faceRecognizer.train(facesData, np.array(labels))#a traves de este conjunto de eitqeuta sempeiza a entrenar, no puedo tener caras de otra persona en mi carpeta, cuando intente separar info, no va a saber.\n",
    "faceRecognizer.write(r'C:\\Users\\rovega\\Desktop\\ITM\\Sem 9\\Inteligencia Artificial\\Git IA - Actividades\\ModelosXML\\Eigenface-carasSentimientos.xml') #guardar modelo entrenado como xml\n",
    "print('Exito!')\n",
    "#GENERA XML YA ENTRENADO \n",
    "#POR CADA CARA, GENERA DATASET= TODA LA CARPETA DE CARA ROY ETIQEUTA 0, PEPE ETIQUETA 1, etc. "
   ]
  },
  {
   "cell_type": "code",
   "execution_count": 1,
   "id": "39cd800b-6946-4ed3-8fe1-ab8330b0a932",
   "metadata": {},
   "outputs": [
    {
     "ename": "NameError",
     "evalue": "name 'faces' is not defined",
     "output_type": "error",
     "traceback": [
      "\u001b[1;31m---------------------------------------------------------------------------\u001b[0m",
      "\u001b[1;31mNameError\u001b[0m                                 Traceback (most recent call last)",
      "Cell \u001b[1;32mIn[1], line 29\u001b[0m\n\u001b[0;32m     24\u001b[0m \u001b[38;5;66;03m#CON HAARCASCADE TOMO RECORTE DE TU CARA, y dime si en tu base tienes estos valores. Cada rostros tiene su clase 0,1 (persona), \u001b[39;00m\n\u001b[0;32m     25\u001b[0m \n\u001b[0;32m     26\u001b[0m \u001b[38;5;66;03m#cv.putText(frame, '{}'.format(result), (x,y-20), 1,3.3, (255,255,0), 1, cv.LINE_AA) #IMPRIMIR VALOR DE RESULT\u001b[39;00m\n\u001b[0;32m     27\u001b[0m \u001b[38;5;66;03m#SI EL RANGO ES MAS ALTO, ES LA CONFIANZA Q TENGO PARA RECONOCER PERSONAS, SI VALOR ES 7,000 (fotos son suficientes para poder reconocer). RANGO ES DE 0-1, DE 1000 A 10,000\u001b[39;00m\n\u001b[0;32m     28\u001b[0m \u001b[38;5;28;01mif\u001b[39;00m result[\u001b[38;5;241m1\u001b[39m] \u001b[38;5;241m>\u001b[39m \u001b[38;5;241m2800\u001b[39m: \u001b[38;5;66;03m#si el rango es mayor a 2800 (valor q es usualmente mayor a 2800), es LALO, si no es DESCONOCIDO. DA VALOR \"(0, 4932)\" 0 define clase de la cara (ROY),  clase 1 (LALO), clase 2 (PEPE)\u001b[39;00m\n\u001b[1;32m---> 29\u001b[0m     cv\u001b[38;5;241m.\u001b[39mputText(frame,\u001b[38;5;124m'\u001b[39m\u001b[38;5;132;01m{}\u001b[39;00m\u001b[38;5;124m'\u001b[39m\u001b[38;5;241m.\u001b[39mformat(faces[result[\u001b[38;5;241m0\u001b[39m]]),(x,y\u001b[38;5;241m-\u001b[39m\u001b[38;5;241m25\u001b[39m),\u001b[38;5;241m2\u001b[39m,\u001b[38;5;241m1.1\u001b[39m,(\u001b[38;5;241m0\u001b[39m,\u001b[38;5;241m255\u001b[39m,\u001b[38;5;241m0\u001b[39m),\u001b[38;5;241m1\u001b[39m,cv\u001b[38;5;241m.\u001b[39mLINE_AA) \u001b[38;5;66;03m#PONER TEXTO DE ETIQUETA, y coordenadas \u001b[39;00m\n\u001b[0;32m     30\u001b[0m     cv\u001b[38;5;241m.\u001b[39mrectangle(frame, (x,y),(x\u001b[38;5;241m+\u001b[39mw,y\u001b[38;5;241m+\u001b[39mh),(\u001b[38;5;241m0\u001b[39m,\u001b[38;5;241m255\u001b[39m,\u001b[38;5;241m0\u001b[39m),\u001b[38;5;241m2\u001b[39m) \u001b[38;5;66;03m#PINTA RECTANGULO\u001b[39;00m\n\u001b[0;32m     31\u001b[0m \u001b[38;5;28;01melse\u001b[39;00m:\n",
      "\u001b[1;31mNameError\u001b[0m: name 'faces' is not defined"
     ]
    }
   ],
   "source": [
    "#LEER MODELO Y RECONOCER ROSTROS\n",
    "\n",
    "import cv2 as cv\n",
    "import os \n",
    "\n",
    "faceRecognizer = cv.face.EigenFaceRecognizer_create()\n",
    "faceRecognizer.read(r'C:\\Users\\rovega\\Desktop\\ITM\\Sem 9\\Inteligencia Artificial\\Git IA - Actividades\\ModelosXML\\caras-Sentimientos.xml') #lo puedo usar en otros programas. Una vez entrenado el resultado es instantaneo.\n",
    "\n",
    "cap = cv.VideoCapture(0)\n",
    "rostro = cv.CascadeClassifier(r'C:\\Users\\rovega\\Desktop\\ITM\\Sem 9\\Inteligencia Artificial\\Git IA - Actividades\\ModelosXML\\haarcascade_frontalface_alt.xml') #uso clasificador, para detectar rostro dentro de escena, barre \n",
    "while True:\n",
    "    ret, frame = cap.read() \n",
    "    if ret == False: break #si no hay camara, rompo proceso\n",
    "        \n",
    "    gray = cv.cvtColor(frame, cv.COLOR_BGR2GRAY) \n",
    "    cpGray = gray.copy()\n",
    "    rostros = rostro.detectMultiScale(gray, 1.3, 3) #varios reconocimientos\n",
    "    \n",
    "    for(x, y, w, h) in rostros:\n",
    "        \n",
    "        frame2 = cpGray[y:y+h, x:x+w] #recorto cara\n",
    "        frame2 = cv.resize(frame2,  (100,100), interpolation=cv.INTER_CUBIC)\n",
    "        result = faceRecognizer.predict(frame2) #paso frames/recortes al modelo, si detecta la cara que le mande, me regresa un rango de valor entre las caras, \n",
    "        #CON HAARCASCADE TOMO RECORTE DE TU CARA, y dime si en tu base tienes estos valores. Cada rostros tiene su clase 0,1 (persona), \n",
    "        \n",
    "        #cv.putText(frame, '{}'.format(result), (x,y-20), 1,3.3, (255,255,0), 1, cv.LINE_AA) #IMPRIMIR VALOR DE RESULT\n",
    "        #SI EL RANGO ES MAS ALTO, ES LA CONFIANZA Q TENGO PARA RECONOCER PERSONAS, SI VALOR ES 7,000 (fotos son suficientes para poder reconocer). RANGO ES DE 0-1, DE 1000 A 10,000\n",
    "        if result[1] > 2800: #si el rango es mayor a 2800 (valor q es usualmente mayor a 2800), es LALO, si no es DESCONOCIDO. DA VALOR \"(0, 4932)\" 0 define clase de la cara (ROY),  clase 1 (LALO), clase 2 (PEPE)\n",
    "            cv.putText(frame,'{}'.format(faces[result[0]]),(x,y-25),2,1.1,(0,255,0),1,cv.LINE_AA) #PONER TEXTO DE ETIQUETA, y coordenadas \n",
    "            cv.rectangle(frame, (x,y),(x+w,y+h),(0,255,0),2) #PINTA RECTANGULO\n",
    "        else:\n",
    "            cv.putText(frame,'Desconocido',(x,y-20),2,0.8,(0,0,255),1,cv.LINE_AA)\n",
    "            cv.rectangle(frame, (x,y),(x+w,y+h),(0,0,255),2)\n",
    "            \n",
    "    cv.imshow('frame', frame)\n",
    "    k = cv.waitKey(1)\n",
    "    \n",
    "    if k == 27:\n",
    "        break\n",
    "        \n",
    "cap.release()\n",
    "cv.destroyAllWindows()"
   ]
  },
  {
   "cell_type": "code",
   "execution_count": null,
   "id": "10cec582-24dd-45b9-b665-2e0c60dcbf8c",
   "metadata": {},
   "outputs": [],
   "source": []
  }
 ],
 "metadata": {
  "kernelspec": {
   "display_name": "Python 3 (ipykernel)",
   "language": "python",
   "name": "python3"
  },
  "language_info": {
   "codemirror_mode": {
    "name": "ipython",
    "version": 3
   },
   "file_extension": ".py",
   "mimetype": "text/x-python",
   "name": "python",
   "nbconvert_exporter": "python",
   "pygments_lexer": "ipython3",
   "version": "3.11.8"
  }
 },
 "nbformat": 4,
 "nbformat_minor": 5
}
