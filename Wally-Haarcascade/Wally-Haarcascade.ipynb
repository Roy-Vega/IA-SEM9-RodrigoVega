{
 "cells": [
  {
   "cell_type": "code",
   "execution_count": null,
   "id": "db95367f-b9f6-4da6-96b1-e746c6efaf36",
   "metadata": {
    "tags": []
   },
   "outputs": [],
   "source": [
    "import cv2 as cv\n",
    "import os\n",
    "\n",
    "# Load the trained cascade classifier for detecting Wally's face\n",
    "cascade_path = r'C:\\Users\\rovega\\Desktop\\ITM\\Sem 9\\Inteligencia Artificial\\IA - Actividades NO GIT\\Wally-Waldo - Actividad - Cascade Trainer GUI\\Waldo2Train\\classifier\\cascade.xml'\n",
    "face_cascade = cv.CascadeClassifier(cascade_path)\n",
    "\n",
    "# Load the image containing Wally\n",
    "image_path = r'C:\\Users\\rovega\\Desktop\\ITM\\Sem 9\\Inteligencia Artificial\\IA - Actividades NO GIT\\Wally-Waldo - Actividad - Cascade Trainer GUI\\Waldos Fotos\\Test IA\\test0.jpg'\n",
    "image = cv.imread(image_path)\n",
    "\n",
    "# Convert the image to grayscale\n",
    "gray = cv.cvtColor(image, cv.COLOR_BGR2GRAY)\n",
    "\n",
    "# Detect faces using the trained cascade classifier , 1.1   5    30,30\n",
    "faces = face_cascade.detectMultiScale(gray, scaleFactor=1.01, minNeighbors=3, minSize=(5, 5))\n",
    "\n",
    "# Iterate over the detected faces\n",
    "for (x, y, w, h) in faces:\n",
    "    # Extract the face region from the image\n",
    "    face_region = gray[y:y+h, x:x+w]\n",
    "\n",
    "    # Define the directory where you want to save the detected face\n",
    "    save_dir = r'C:\\Users\\rovega\\Desktop\\ITM\\Sem 9\\Inteligencia Artificial\\IA - Actividades NO GIT\\Wally-Waldo - Actividad - Cascade Trainer GUI\\Waldos Fotos\\Test IA\\Resultados'\n",
    "\n",
    "    # Save the detected face region to a file in the specified directory\n",
    "    cv.imwrite(os.path.join(save_dir, 'wally.jpg'), face_region)\n",
    "\n",
    "    # Optionally, you can also draw a rectangle around the detected face and display it\n",
    "    cv.rectangle(image, (x, y), (x+w, y+h), (0, 255, 0), 2)\n",
    "    \n",
    "    # Resize the image to fit your screen resolution\n",
    "    resized_image = cv.resize(image, (1000, 1080))\n",
    "    cv.imshow('Detected Face', resized_image)\n",
    "        \n",
    "    # Wait for the ESC key (ASCII value 27) to be pressed\n",
    "    key = cv.waitKey(0) & 0xFF\n",
    "    if key == 27:\n",
    "        cv.destroyAllWindows()\n",
    "\n"
   ]
  },
  {
   "cell_type": "code",
   "execution_count": 6,
   "id": "7d247d55-580a-4735-9ecc-e1957eaf991f",
   "metadata": {
    "tags": []
   },
   "outputs": [
    {
     "name": "stdout",
     "output_type": "stream",
     "text": [
      "Wally detectado. Resultado guardado como C:\\Users\\rovega\\Desktop\\ITM\\Sem 9\\Inteligencia Artificial\\IA - Actividades NO GIT\\Wally-Waldo - Actividad - Cascade Trainer GUI\\Waldos Fotos\\Test IA\\Resultados\\wallydetectado.jpg.\n"
     ]
    }
   ],
   "source": [
    "import cv2 as cv\n",
    "import os\n",
    "\n",
    "wally_cascade = cv.CascadeClassifier(r'C:\\Users\\rovega\\Desktop\\ITM\\Sem 9\\Inteligencia Artificial\\IA - Actividades NO GIT\\Wally-Waldo - Actividad - Cascade Trainer GUI\\Waldo-Cascade-Trainer-GUI\\classifier\\cascade.xml')\n",
    "\n",
    "# Leer la imagen del escenario\n",
    "image_path = r'C:\\Users\\rovega\\Desktop\\ITM\\Sem 9\\Inteligencia Artificial\\IA - Actividades NO GIT\\Wally-Waldo - Actividad - Cascade Trainer GUI\\Waldos Fotos\\Test IA\\test2.jpg'\n",
    "image = cv.imread(image_path)\n",
    "\n",
    "# Convertir la imagen a escala de grises\n",
    "gray = cv.cvtColor(image, cv.COLOR_BGR2GRAY)\n",
    "\n",
    "# Detectar a Wally en la imagen\n",
    "#wally_apparitions = wally_cascade.detectMultiScale(gray, scaleFactor=1.1, minNeighbors=90,minSize=(5, 5))\n",
    "\n",
    "#detectado 1\n",
    "wally_apparitions = wally_cascade.detectMultiScale(gray, scaleFactor=1.01, minNeighbors=9, minSize=(10, 10))\n",
    "\n",
    "\n",
    "if len(wally_apparitions) == 0:\n",
    "    print(\"Wally no fue encontrado en la imagen.\")\n",
    "else:\n",
    "    # Dibujar rectángulos alrededor de Wally\n",
    "    for (x, y, w, h) in wally_apparitions:\n",
    "        cv.rectangle(image, (x, y), (x + w, y + h), (0, 255, 0), 2)\n",
    "\n",
    "    # Guardar la imagen de salida con los rectángulos\n",
    "    output_path = r'C:\\Users\\rovega\\Desktop\\ITM\\Sem 9\\Inteligencia Artificial\\IA - Actividades NO GIT\\Wally-Waldo - Actividad - Cascade Trainer GUI\\Waldos Fotos\\Test IA\\Resultados\\wallydetectado.jpg'\n",
    "    cv.imwrite(output_path, image)\n",
    "\n",
    "    print(f\"Wally detectado. Resultado guardado como {output_path}.\")"
   ]
  },
  {
   "cell_type": "code",
   "execution_count": null,
   "id": "0481dbf0-816c-4451-b943-32e7d44e8eb1",
   "metadata": {},
   "outputs": [],
   "source": []
  }
 ],
 "metadata": {
  "kernelspec": {
   "display_name": "Python 3 (ipykernel)",
   "language": "python",
   "name": "python3"
  },
  "language_info": {
   "codemirror_mode": {
    "name": "ipython",
    "version": 3
   },
   "file_extension": ".py",
   "mimetype": "text/x-python",
   "name": "python",
   "nbconvert_exporter": "python",
   "pygments_lexer": "ipython3",
   "version": "3.11.8"
  }
 },
 "nbformat": 4,
 "nbformat_minor": 5
}
