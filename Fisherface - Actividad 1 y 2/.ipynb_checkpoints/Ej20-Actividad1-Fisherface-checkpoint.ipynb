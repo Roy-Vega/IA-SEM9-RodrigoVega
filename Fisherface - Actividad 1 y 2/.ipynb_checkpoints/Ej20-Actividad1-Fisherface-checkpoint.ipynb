{
 "cells": [
  {
   "cell_type": "code",
   "execution_count": 1,
   "id": "51d393f4-6aaf-419f-8711-42c5967fb96e",
   "metadata": {},
   "outputs": [],
   "source": [
    "import numpy as np\n",
    "import cv2 as cv \n",
    "import os"
   ]
  },
  {
   "cell_type": "code",
   "execution_count": 2,
   "id": "2be04f2f-7863-495f-b955-24f74c2d50c3",
   "metadata": {},
   "outputs": [
    {
     "name": "stdout",
     "output_type": "stream",
     "text": [
      "['axel', 'brenda', 'dante', 'jair', 'martin', 'roy']\n",
      "366\n",
      "Exito!\n"
     ]
    }
   ],
   "source": [
    "dataSet =  r'C:\\Users\\rovega\\Desktop\\ITM\\Sem 9\\Inteligencia Artificial\\IA - Actividades NO GIT\\caras\\actividad1'\n",
    "faces = os.listdir(dataSet) \n",
    "print(faces)\n",
    "\n",
    "labels = [] \n",
    "facesData = [] \n",
    "label = 0\n",
    "\n",
    "for face in faces:\n",
    "    \n",
    "    facePath = dataSet+'\\\\'+face \n",
    "    \n",
    "    for faceName in os.listdir(facePath):\n",
    "        labels.append(label)\n",
    "        facesData.append(cv.imread(facePath+'/'+faceName,0)) \n",
    "    label = label + 1 \n",
    "    \n",
    "print(np.count_nonzero(np.array(labels)==0)) \n",
    "\n",
    "faceRecognizer = cv.face.FisherFaceRecognizer_create()\n",
    "\n",
    "faceRecognizer.train(facesData, np.array(labels))\n",
    "faceRecognizer.write(r'C:\\Users\\rovega\\Desktop\\ITM\\Sem 9\\Inteligencia Artificial\\Git IA - Actividades\\ModelosXML\\Fisherface-carasAmigos.xml')\n",
    "print('Exito!')\n",
    "#15min"
   ]
  },
  {
   "cell_type": "code",
   "execution_count": 3,
   "id": "39cd800b-6946-4ed3-8fe1-ab8330b0a932",
   "metadata": {},
   "outputs": [],
   "source": [
    "import cv2 as cv\n",
    "import os \n",
    "\n",
    "faceRecognizer = cv.face.FisherFaceRecognizer_create()\n",
    "faceRecognizer.read(r'C:\\Users\\rovega\\Desktop\\ITM\\Sem 9\\Inteligencia Artificial\\Git IA - Actividades\\ModelosXML\\Fisherface-carasAmigos.xml') \n",
    "\n",
    "dataSet =  r'C:\\Users\\rovega\\Desktop\\ITM\\Sem 9\\Inteligencia Artificial\\IA - Actividades NO GIT\\caras\\actividad1'\n",
    "faces = os.listdir(dataSet) \n",
    "\n",
    "cap = cv.VideoCapture(0)\n",
    "rostro = cv.CascadeClassifier(r'C:\\Users\\rovega\\Desktop\\ITM\\Sem 9\\Inteligencia Artificial\\Git IA - Actividades\\ModelosXML\\haarcascade_frontalface_alt.xml') #uso clasificador, para detectar rostro dentro de escena, barre \n",
    "while True:\n",
    "    ret, frame = cap.read() \n",
    "    if ret == False: \n",
    "        break\n",
    "        \n",
    "    gray = cv.cvtColor(frame, cv.COLOR_BGR2GRAY) \n",
    "    cpGray = gray.copy()\n",
    "    rostros = rostro.detectMultiScale(gray, 1.3, 3) \n",
    "    \n",
    "    for(x, y, w, h) in rostros:\n",
    "        \n",
    "        frame2 = cpGray[y:y+h, x:x+w]\n",
    "        frame2 = cv.resize(frame2,  (100,100), interpolation=cv.INTER_CUBIC)\n",
    "        result = faceRecognizer.predict(frame2) \n",
    "        \n",
    "        #cv.putText(frame, '{}'.format(result), (x,y-20), 1,3.3, (255,255,0), 1, cv.LINE_AA)\n",
    "        \n",
    "        if result[1] > 2800:\n",
    "            cv.putText(frame,'{}'.format(faces[result[0]]),(x,y-25),2,1.1,(0,255,0),1,cv.LINE_AA)\n",
    "            cv.rectangle(frame, (x,y),(x+w,y+h),(0,255,0),2)\n",
    "        else:\n",
    "            cv.putText(frame,'Desconocido',(x,y-20),2,0.8,(0,0,255),1,cv.LINE_AA)\n",
    "            cv.rectangle(frame, (x,y),(x+w,y+h),(0,0,255),2)\n",
    "            \n",
    "    cv.imshow('frame', frame)\n",
    "    k = cv.waitKey(1)\n",
    "    \n",
    "    if k == 27:\n",
    "        break\n",
    "        \n",
    "cap.release()\n",
    "cv.destroyAllWindows()"
   ]
  },
  {
   "cell_type": "code",
   "execution_count": null,
   "id": "10cec582-24dd-45b9-b665-2e0c60dcbf8c",
   "metadata": {},
   "outputs": [],
   "source": []
  }
 ],
 "metadata": {
  "kernelspec": {
   "display_name": "Python 3 (ipykernel)",
   "language": "python",
   "name": "python3"
  },
  "language_info": {
   "codemirror_mode": {
    "name": "ipython",
    "version": 3
   },
   "file_extension": ".py",
   "mimetype": "text/x-python",
   "name": "python",
   "nbconvert_exporter": "python",
   "pygments_lexer": "ipython3",
   "version": "3.11.8"
  }
 },
 "nbformat": 4,
 "nbformat_minor": 5
}
