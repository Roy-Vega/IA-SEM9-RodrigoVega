{
 "cells": [
  {
   "cell_type": "code",
   "execution_count": 1,
   "id": "51d393f4-6aaf-419f-8711-42c5967fb96e",
   "metadata": {},
   "outputs": [],
   "source": [
    "import cv2 as cv "
   ]
  },
  {
   "cell_type": "code",
   "execution_count": 2,
   "id": "2be04f2f-7863-495f-b955-24f74c2d50c3",
   "metadata": {},
   "outputs": [],
   "source": [
    "cap = cv.VideoCapture(0) #Funcion: \"0\" va a tratar de buscar cualquier dispositivo q este conectado al equipo (el primero q encuentra).\n",
    "#Si usamos otro num \"1\", \"2\", etc, es por si tenemos varias camaras en PC.\n",
    "\n",
    "while(True): #CICLO INFINITO\n",
    "    res , img = cap.read() #leer dispositivo, lo que lea se guarda en \"img\".\n",
    "    \n",
    "    img2=cv.cvtColor(img, cv.COLOR_BGR2HSV) \n",
    "    vb=(0, 60,60)\n",
    "    va=(20, 255,255)\n",
    "    mask=cv.inRange(img2, vb,va)\n",
    "    res=cv.bitwise_and(img, img, mask=mask)\n",
    "    \n",
    "    cv.imshow('captura', res) \n",
    "    if cv.waitKey(1) & 0xFF == ord('s'): #espere proceso, lo puedo cerrar con tecla \"S\" \n",
    "        break #romper ciclo \n",
    "   \n",
    "cap.release() #release the video capture object, desocupar camara, clean up resources. \n",
    "cv.destroyAllWindows()\n",
    "\n",
    "\n"
   ]
  },
  {
   "cell_type": "code",
   "execution_count": null,
   "id": "400f8ab2-0b5b-4e43-aa8e-a9209c2f4a3f",
   "metadata": {},
   "outputs": [],
   "source": []
  }
 ],
 "metadata": {
  "kernelspec": {
   "display_name": "Python 3 (ipykernel)",
   "language": "python",
   "name": "python3"
  },
  "language_info": {
   "codemirror_mode": {
    "name": "ipython",
    "version": 3
   },
   "file_extension": ".py",
   "mimetype": "text/x-python",
   "name": "python",
   "nbconvert_exporter": "python",
   "pygments_lexer": "ipython3",
   "version": "3.11.7"
  }
 },
 "nbformat": 4,
 "nbformat_minor": 5
}
