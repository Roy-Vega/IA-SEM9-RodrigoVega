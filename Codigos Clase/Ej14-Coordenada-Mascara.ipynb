{
 "cells": [
  {
   "cell_type": "code",
   "execution_count": 1,
   "id": "51d393f4-6aaf-419f-8711-42c5967fb96e",
   "metadata": {},
   "outputs": [],
   "source": [
    "import cv2 as cv "
   ]
  },
  {
   "cell_type": "code",
   "execution_count": 2,
   "id": "2be04f2f-7863-495f-b955-24f74c2d50c3",
   "metadata": {},
   "outputs": [],
   "source": [
    "cap = cv.VideoCapture(0) # Open the default camera (index 0). You can change this index if you have multiple cameras.\n",
    "\n",
    "while(True):  # Infinite loop for continuously capturing frames.\n",
    "    \n",
    "    ret, img = cap.read()# Read a frame from the camera.\n",
    "    \n",
    "    if ret == True:  # If the frame is successfully read.\n",
    "        img2=cv.cvtColor(img, cv.COLOR_BGR2HSV) # Convert BGR image to HSV.\n",
    "        \n",
    "        ubb=(100, 0,0)  # Lower bound of the color range in HSV. (umbral bajo)\n",
    "        uba=(130, 255,255) # # Upper bound of the color range in HSV. (umbral alto)\n",
    "        \n",
    "        mask=cv.inRange(img2, ubb,uba) # Create a binary mask using the color range.\n",
    "        res=cv.bitwise_and(img, img, mask=mask)  # Apply the mask to the original image.\n",
    "\n",
    "        # Display the original frame, the result after the color filtering, and the mask.\n",
    "        cv.imshow('img2', img) \n",
    "        cv.imshow('res', res) \n",
    "        cv.imshow('mask', mask) \n",
    "\n",
    "        # Check for the 'Esc' key to exit the loop.\n",
    "        k=cv.waitKey(20) & 0xFF\n",
    "        if k == 27:\n",
    "            break\n",
    "    \n",
    "cap.release()  # Release the video capture object to free up resources.\n",
    "cv.destroyAllWindows() # Close all OpenCV windows.\n",
    "\n",
    "\n"
   ]
  },
  {
   "cell_type": "code",
   "execution_count": null,
   "id": "400f8ab2-0b5b-4e43-aa8e-a9209c2f4a3f",
   "metadata": {},
   "outputs": [],
   "source": []
  }
 ],
 "metadata": {
  "kernelspec": {
   "display_name": "Python 3 (ipykernel)",
   "language": "python",
   "name": "python3"
  },
  "language_info": {
   "codemirror_mode": {
    "name": "ipython",
    "version": 3
   },
   "file_extension": ".py",
   "mimetype": "text/x-python",
   "name": "python",
   "nbconvert_exporter": "python",
   "pygments_lexer": "ipython3",
   "version": "3.11.7"
  }
 },
 "nbformat": 4,
 "nbformat_minor": 5
}
