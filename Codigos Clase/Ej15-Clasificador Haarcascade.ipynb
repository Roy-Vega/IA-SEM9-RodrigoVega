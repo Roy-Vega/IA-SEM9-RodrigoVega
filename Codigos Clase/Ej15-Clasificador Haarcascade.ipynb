{
 "cells": [
  {
   "cell_type": "code",
   "execution_count": 1,
   "id": "51d393f4-6aaf-419f-8711-42c5967fb96e",
   "metadata": {},
   "outputs": [],
   "source": [
    "import numpy as np\n",
    "import cv2 as cv \n",
    "rostro = cv.CascadeClassifier('haarcascade_frontalface_alt.xml') #leventar un archivo xml, que ya esta entrenado, tiene 5,000 img de rostros de manera general.\n",
    "#suavizado de img, la img se pone un smooth. "
   ]
  },
  {
   "cell_type": "code",
   "execution_count": 2,
   "id": "2be04f2f-7863-495f-b955-24f74c2d50c3",
   "metadata": {},
   "outputs": [],
   "source": [
    "cap = cv.VideoCapture(0) #inicializar camara \n",
    "\n",
    "while True: #ciclo infinito\n",
    "    ret, frame = cap.read() #capturar fotogramas\n",
    "    \n",
    "    gray = cv.cvtColor(frame, cv.COLOR_BGR2GRAY) #BGR to gray, el modelo ,#El modleo necesita img en escala de grises, para hacer filtracion (suavizado)\n",
    "    \n",
    "    rostros = rostro.detectMultiScale(gray, 1.3, 5) #Detecta a diferente tamaño/escalas el rostro, si la persona esta cerca o lejos, sigue detectando, DENTRO DE CADA FOTOGRAMA DETECTA ROSTROS A DIFERENTES ESCALAS\n",
    "    #\"detectMultiScale\" method is used to detect faces in the grayscale frame. It returns a list of rectangles, where each rectangle represents the bounding box around a detected face.\n",
    "    \n",
    "    for(x, y, w, h) in rostros: #recorre rostros que haya detectado funcion MultiScale, nos da la coordenadas de los rostros, tengo la poscion (x, y) y (ancho-w , h-largo). A ese fotograma, con funcion \"rectangle\", le mando frame, coordenada incial (x,y), y traslado punto a lo ancho y largo (x+w y y+h), luego RGB (R:0 G:255 B0), por eso el cuadro es color verde. El 2 es el ancho de linea. \n",
    "        frame = cv.rectangle(frame, (x,y), (x+w, y+h), (0, 255, 0), 2) #mando fotoframa, \n",
    "        #For each detected face, a green rectangle is drawn around it on the original color frame. \n",
    "        #The rectangle function takes the frame, the starting point (x, y), the ending point (x+w, y+h), \n",
    "        #the color (0, 255, 0) (green), and the line thickness (2).\n",
    "    \n",
    "    cv.imshow('rostros', frame) #The frame with rectangles drawn around detected faces is displayed.\n",
    "     \n",
    "    k = cv.waitKey(1) #The script exits the loop and releases resources if the 'Esc' key (27 in ASCII) is pressed.\n",
    "    if k == 27:\n",
    "        break\n",
    "cap.release()\n",
    "cv.destroyAllWindows()\n",
    "    "
   ]
  },
  {
   "cell_type": "code",
   "execution_count": null,
   "id": "400f8ab2-0b5b-4e43-aa8e-a9209c2f4a3f",
   "metadata": {},
   "outputs": [],
   "source": []
  }
 ],
 "metadata": {
  "kernelspec": {
   "display_name": "Python 3 (ipykernel)",
   "language": "python",
   "name": "python3"
  },
  "language_info": {
   "codemirror_mode": {
    "name": "ipython",
    "version": 3
   },
   "file_extension": ".py",
   "mimetype": "text/x-python",
   "name": "python",
   "nbconvert_exporter": "python",
   "pygments_lexer": "ipython3",
   "version": "3.11.7"
  }
 },
 "nbformat": 4,
 "nbformat_minor": 5
}
