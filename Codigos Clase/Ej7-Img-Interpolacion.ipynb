{
 "cells": [
  {
   "cell_type": "code",
   "execution_count": 2,
   "id": "51d393f4-6aaf-419f-8711-42c5967fb96e",
   "metadata": {},
   "outputs": [],
   "source": [
    "import cv2 as cv\n",
    "import numpy as np"
   ]
  },
  {
   "cell_type": "code",
   "execution_count": 3,
   "id": "cdd84ea1-11a2-4a12-ab4b-4236f830f156",
   "metadata": {},
   "outputs": [],
   "source": [
    "def escala(imx, escala):\n",
    "    width = int (imx.shape[1] * escala / 100) #escalo el porcentaje de ancho\n",
    "    height = int (imx.shape[0] * escala / 100) #escalo el porcentaje de alto\n",
    "    size= (width, height) #\n",
    "    im = cv.resize (imx, size, interpolation = cv.INTER_AREA) #resize (img, nuevo tamaño, tipo de interpolacion) \n",
    "    return im\n",
    "    # - resize: escalar positivamente o negativamente\n",
    "    # - interpocation: rellenar espacios de img.\n",
    "    # - cv.INTER_AREA: dice como llenar huecos de img\n",
    "    \n"
   ]
  },
  {
   "cell_type": "code",
   "execution_count": 4,
   "id": "9dbfd095-79f4-43e7-94b1-96bf6f781db7",
   "metadata": {},
   "outputs": [],
   "source": [
    "img = cv.imread('descarga.jpg', 0) \n",
    "img2 = escala(img, 200)\n",
    "cv.imshow('Original', img)\n",
    "cv.imshow('Escalada', img2)\n",
    "cv.waitKey(0)\n",
    "cv.destroyAllWindows() "
   ]
  },
  {
   "cell_type": "code",
   "execution_count": null,
   "id": "16e2740d-98c0-46ce-a377-eefe0f30d6c4",
   "metadata": {},
   "outputs": [],
   "source": []
  }
 ],
 "metadata": {
  "kernelspec": {
   "display_name": "Python 3 (ipykernel)",
   "language": "python",
   "name": "python3"
  },
  "language_info": {
   "codemirror_mode": {
    "name": "ipython",
    "version": 3
   },
   "file_extension": ".py",
   "mimetype": "text/x-python",
   "name": "python",
   "nbconvert_exporter": "python",
   "pygments_lexer": "ipython3",
   "version": "3.11.7"
  }
 },
 "nbformat": 4,
 "nbformat_minor": 5
}
