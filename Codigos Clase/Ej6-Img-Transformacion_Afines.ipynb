{
 "cells": [
  {
   "cell_type": "code",
   "execution_count": 1,
   "id": "51d393f4-6aaf-419f-8711-42c5967fb96e",
   "metadata": {},
   "outputs": [],
   "source": [
    "import cv2 as cv \n",
    "import numpy as np"
   ]
  },
  {
   "cell_type": "code",
   "execution_count": 2,
   "id": "9dbfd095-79f4-43e7-94b1-96bf6f781db7",
   "metadata": {},
   "outputs": [],
   "source": [
    "img = cv.imread('descarga.jpg', 0) \n",
    "w,h=img.shape[:2] #solo saco propiedades de ancho y alto.\n",
    "mw = np.float32([[1,0,10],[0,1,10]]) #genera matriz para la ROTACION\n",
    "\n",
    "img2 = cv.warpAffine(img,mw,(h,w)) #permite hacer traslacion (transformacion) de la img.\n",
    "#Argumentos: img original (img), rotacion (mw), dimension de img (h,w)\n",
    "\n",
    "cv.imshow('Imagen1', img)\n",
    "cv.imshow('Imagen2', img2)\n",
    "cv.waitKey(0)\n",
    "cv.destroyAllWindows() "
   ]
  },
  {
   "cell_type": "code",
   "execution_count": null,
   "id": "cdd84ea1-11a2-4a12-ab4b-4236f830f156",
   "metadata": {},
   "outputs": [],
   "source": []
  },
  {
   "cell_type": "code",
   "execution_count": null,
   "id": "16e2740d-98c0-46ce-a377-eefe0f30d6c4",
   "metadata": {},
   "outputs": [],
   "source": []
  }
 ],
 "metadata": {
  "kernelspec": {
   "display_name": "Python 3 (ipykernel)",
   "language": "python",
   "name": "python3"
  },
  "language_info": {
   "codemirror_mode": {
    "name": "ipython",
    "version": 3
   },
   "file_extension": ".py",
   "mimetype": "text/x-python",
   "name": "python",
   "nbconvert_exporter": "python",
   "pygments_lexer": "ipython3",
   "version": "3.11.7"
  }
 },
 "nbformat": 4,
 "nbformat_minor": 5
}
