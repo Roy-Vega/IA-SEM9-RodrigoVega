{
 "cells": [
  {
   "cell_type": "code",
   "execution_count": 1,
   "id": "51d393f4-6aaf-419f-8711-42c5967fb96e",
   "metadata": {},
   "outputs": [],
   "source": [
    "import cv2 as cv "
   ]
  },
  {
   "cell_type": "code",
   "execution_count": null,
   "id": "9dbfd095-79f4-43e7-94b1-96bf6f781db7",
   "metadata": {},
   "outputs": [],
   "source": [
    "img = cv.imread('man1.jpg', 1) # 3 canales\n",
    "img2=cv.cvtColor(img, cv.COLOR_BGR2HSV) #transformar img original a HSV (en RGB no se puede buscar 1 solo color)\n",
    "\n",
    "#Umbrales que usa img en el modelo de color HSV, H valor que permite manejar rangos de color\n",
    "#Rango rojo 1: 0 a 10\n",
    "vb=(0,60,60) \n",
    "va=(10,255,255)\n",
    "\n",
    "#Rango rojo 2: 170 a 180\n",
    "vb1=(170, 60,60)\n",
    "va1=(180, 255,255)\n",
    "\n",
    "mask=cv.inRange(img2, vb,va) #Genero mascara, a partir de img HSV y umbral (alto y bajo) para que discrimine color. TODOS ESTOS PIXELES LOS EXTRAE Y GENERA UNA NUEVA MASCARA. \n",
    "mask1=cv.inRange(img2, vb1,va1) #Mascara 2, para tener rango mas amplio. \n",
    "mask2 =mask + mask1 #Junto ambas mascaras para tener mas color rojo\n",
    "res=cv.bitwise_and(img, img, mask=mask2) #Resta de img original, le dejo solo lo que esta en blanco para eliminar lo de negro \n",
    "cv.imshow('mask', mask2) #Mascara ya tiene extraccion del valor (1 canal: solo valores blanco y negro)\n",
    "cv.imshow('img', img) #img original \n",
    "cv.imshow('img2', img2) #HSV\n",
    "cv.imshow('res', res) #Img: Segmentacion de color rojo\n",
    "cv.waitKey(0)\n",
    "cv.destroyAllWindows()\n"
   ]
  },
  {
   "cell_type": "code",
   "execution_count": null,
   "id": "05d24cc6-859c-470a-b1ff-d93a812c3f87",
   "metadata": {},
   "outputs": [],
   "source": []
  }
 ],
 "metadata": {
  "kernelspec": {
   "display_name": "Python 3 (ipykernel)",
   "language": "python",
   "name": "python3"
  },
  "language_info": {
   "codemirror_mode": {
    "name": "ipython",
    "version": 3
   },
   "file_extension": ".py",
   "mimetype": "text/x-python",
   "name": "python",
   "nbconvert_exporter": "python",
   "pygments_lexer": "ipython3",
   "version": "3.11.7"
  }
 },
 "nbformat": 4,
 "nbformat_minor": 5
}
