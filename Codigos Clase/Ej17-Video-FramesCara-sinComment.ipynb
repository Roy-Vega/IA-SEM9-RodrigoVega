{
 "cells": [
  {
   "cell_type": "code",
   "execution_count": 1,
   "id": "51d393f4-6aaf-419f-8711-42c5967fb96e",
   "metadata": {},
   "outputs": [],
   "source": [
    "import numpy as np\n",
    "import cv2 as cv \n",
    "rostro = cv.CascadeClassifier('haarcascade_frontalface_alt.xml')"
   ]
  },
  {
   "cell_type": "code",
   "execution_count": 2,
   "id": "2be04f2f-7863-495f-b955-24f74c2d50c3",
   "metadata": {},
   "outputs": [],
   "source": [
    "#GUARDAR FRAMES CARA VERSION 1, SEGUIDO\n",
    "\n",
    "cap = cv.VideoCapture(0)\n",
    "i = 0 #contardor para img\n",
    "while True: \n",
    "    ret, frame = cap.read()\n",
    "    \n",
    "    gray = cv.cvtColor(frame, cv.COLOR_BGR2GRAY) \n",
    "\n",
    "    #detectar caras en la escala de grises\n",
    "    rostros = rostro.detectMultiScale(gray, 1.3, 5) \n",
    "    \n",
    "    for(x, y, w, h) in rostros: #iterar sobre rostros detectados\n",
    "        frame2 = frame[y:y+h,x:x+w] #extraer frame de la cara\n",
    "\n",
    "        #resize, cambiar el tamaño a 100x100 pixeles\n",
    "        new_size=(100,100)\n",
    "        resize_img=cv.resize(frame2, new_size)\n",
    "\n",
    "        cv.imshow('frame', frame2) #frame orignal\n",
    "        cv.imshow('resize',resize_img) #frame 100x100\n",
    "        \n",
    "        cv.imwrite('caras\\\\roy'+str(i)+'.png',resize_img) #guardar frame en img\n",
    "\n",
    "    \n",
    "    cv.imshow('cara', frame) #mostrar frame con deteccion de cara\n",
    "    \n",
    "    i=i+1 #incrementar contador\n",
    "    \n",
    "    k = cv.waitKey(1) \n",
    "    if k == 27:\n",
    "        break\n",
    "cap.release()\n",
    "cv.destroyAllWindows()\n",
    "    "
   ]
  },
  {
   "cell_type": "code",
   "execution_count": null,
   "id": "400f8ab2-0b5b-4e43-aa8e-a9209c2f4a3f",
   "metadata": {},
   "outputs": [],
   "source": [
    "#VERSION2, PRESIONAR TECLA 'A' PARA GUARDAR FRAMES"
   ]
  },
  {
   "cell_type": "code",
   "execution_count": null,
   "id": "4dc42117-ddbc-44de-bc5d-fdb68a924986",
   "metadata": {},
   "outputs": [],
   "source": [
    "import numpy as np\n",
    "import cv2 as cv \n",
    "\n",
    "rostro = cv.CascadeClassifier('haarcascade_frontalface_alt.xml')\n",
    "cap = cv.VideoCapture(0)\n",
    "i = 0  # contador para img\n",
    "\n",
    "while True:\n",
    "    ret, frame = cap.read()\n",
    "\n",
    "    gray = cv.cvtColor(frame, cv.COLOR_BGR2GRAY)\n",
    "\n",
    "    # detectar caras en la escala de grises\n",
    "    rostros = rostro.detectMultiScale(gray, 1.3, 5)\n",
    "\n",
    "    for (x, y, w, h) in rostros:  # iterar sobre rostros detectados\n",
    "        frame2 = frame[y:y+h, x:x+w]  # extraer frame de la cara\n",
    "\n",
    "        # resize, cambiar el tamaño a 100x100 pixeles\n",
    "        new_size = (100, 100)\n",
    "        resize_img = cv.resize(frame2, new_size)\n",
    "\n",
    "        cv.imshow('frame', frame2)  # frame original\n",
    "        cv.imshow('resize', resize_img)  # frame 100x100\n",
    "\n",
    "        key = cv.waitKey(1)\n",
    "        if key == ord('a') or key == ord('A'):  # check if the key 'A' or 'a' is pressed\n",
    "            cv.imwrite('caras\\\\roy' + str(i) + '.png', resize_img)  # guardar frame en img\n",
    "            print(f\"Image saved as caras\\\\roy{i}.png\")\n",
    "            i += 1\n",
    "\n",
    "    cv.imshow('cara', frame)  # mostrar frame con detección de cara\n",
    "\n",
    "    k = cv.waitKey(1)\n",
    "    if k == 27:  # press 'Esc' key to exit\n",
    "        break\n",
    "\n",
    "cap.release()\n",
    "cv.destroyAllWindows()\n"
   ]
  },
  {
   "cell_type": "code",
   "execution_count": null,
   "id": "08303e76-4868-4cf9-8997-9a0477675246",
   "metadata": {},
   "outputs": [],
   "source": []
  }
 ],
 "metadata": {
  "kernelspec": {
   "display_name": "Python 3 (ipykernel)",
   "language": "python",
   "name": "python3"
  },
  "language_info": {
   "codemirror_mode": {
    "name": "ipython",
    "version": 3
   },
   "file_extension": ".py",
   "mimetype": "text/x-python",
   "name": "python",
   "nbconvert_exporter": "python",
   "pygments_lexer": "ipython3",
   "version": "3.11.7"
  }
 },
 "nbformat": 4,
 "nbformat_minor": 5
}
