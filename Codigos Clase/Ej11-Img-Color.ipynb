{
 "cells": [
  {
   "cell_type": "code",
   "execution_count": 1,
   "id": "51d393f4-6aaf-419f-8711-42c5967fb96e",
   "metadata": {},
   "outputs": [],
   "source": [
    "import cv2 as cv \n",
    "import numpy as np"
   ]
  },
  {
   "cell_type": "code",
   "execution_count": 2,
   "id": "9dbfd095-79f4-43e7-94b1-96bf6f781db7",
   "metadata": {},
   "outputs": [],
   "source": [
    "img = cv.imread('descarga.jpg', 1)\n",
    "img2=cv.cvtColor(img, cv.COLOR_BGR2GRAY) #la img original, cambiala de rgb a escala de grises.\n",
    "img3=cv.cvtColor(img, cv.COLOR_BGR2HSV) \n",
    "\n",
    "cv.imshow('color', img) \n",
    "cv.imshow('escala grises', img2) \n",
    "cv.imshow('color HSV', img3) \n",
    "\n",
    "cv.waitKey(0)\n",
    "cv.destroyAllWindows()"
   ]
  },
  {
   "cell_type": "code",
   "execution_count": null,
   "id": "e5514c73-2e37-4ffc-afc0-0a4de7bd5bbf",
   "metadata": {},
   "outputs": [],
   "source": []
  }
 ],
 "metadata": {
  "kernelspec": {
   "display_name": "Python 3 (ipykernel)",
   "language": "python",
   "name": "python3"
  },
  "language_info": {
   "codemirror_mode": {
    "name": "ipython",
    "version": 3
   },
   "file_extension": ".py",
   "mimetype": "text/x-python",
   "name": "python",
   "nbconvert_exporter": "python",
   "pygments_lexer": "ipython3",
   "version": "3.11.7"
  }
 },
 "nbformat": 4,
 "nbformat_minor": 5
}
