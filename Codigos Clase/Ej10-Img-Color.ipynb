{
 "cells": [
  {
   "cell_type": "code",
   "execution_count": 1,
   "id": "51d393f4-6aaf-419f-8711-42c5967fb96e",
   "metadata": {},
   "outputs": [],
   "source": [
    "import cv2 as cv \n",
    "import numpy as np"
   ]
  },
  {
   "cell_type": "code",
   "execution_count": 2,
   "id": "9dbfd095-79f4-43e7-94b1-96bf6f781db7",
   "metadata": {},
   "outputs": [],
   "source": [
    "img = cv.imread('descarga.jpg', 1) #img se cargue en 3 canales\n",
    "w,h=img.shape[:2] #especificar que de los 3 canales, solo quiero 2 = width (w), height (h) number of channels (c)\n",
    "\n",
    "img2 = np.zeros((w, h), dtype=np.uint8) #generar 1 matriz de puros zeros, mismo tamano de img, en 1 slo canal\n",
    "b,g,r=cv.split(img)#3 valores para guardar funcion, divide img original y comparte en variables b,g,r\n",
    "cv.imshow('b', b) \n",
    "cv.imshow('g', g) \n",
    "cv.imshow('r', r) \n",
    "\n",
    "#Combinar canales a cada img, yo puedo de esta forma encontrar colores/valores muy especificos. \n",
    "b1 = cv.merge([b, r, g]) #Cambio tonalidad, orden en que salen de colores. \n",
    "g1 = cv.merge([r, g, b]) #fusiona matrices que tengan solo 1 valor, \n",
    "r1 = cv.merge([g, b, r])\n",
    "\n",
    "cv.imshow('b1', b1) \n",
    "cv.imshow('g2', g1) \n",
    "cv.imshow('r2', r1) \n",
    "cv.imshow('marco2', img2) \n",
    "\n",
    "cv.waitKey(0)\n",
    "cv.destroyAllWindows()"
   ]
  },
  {
   "cell_type": "code",
   "execution_count": null,
   "id": "2be04f2f-7863-495f-b955-24f74c2d50c3",
   "metadata": {},
   "outputs": [],
   "source": []
  },
  {
   "cell_type": "code",
   "execution_count": null,
   "id": "400f8ab2-0b5b-4e43-aa8e-a9209c2f4a3f",
   "metadata": {},
   "outputs": [],
   "source": []
  }
 ],
 "metadata": {
  "kernelspec": {
   "display_name": "Python 3 (ipykernel)",
   "language": "python",
   "name": "python3"
  },
  "language_info": {
   "codemirror_mode": {
    "name": "ipython",
    "version": 3
   },
   "file_extension": ".py",
   "mimetype": "text/x-python",
   "name": "python",
   "nbconvert_exporter": "python",
   "pygments_lexer": "ipython3",
   "version": "3.11.7"
  }
 },
 "nbformat": 4,
 "nbformat_minor": 5
}
