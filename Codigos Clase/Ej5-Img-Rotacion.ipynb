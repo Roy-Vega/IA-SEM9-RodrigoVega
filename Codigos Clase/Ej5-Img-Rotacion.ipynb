{
 "cells": [
  {
   "cell_type": "code",
   "execution_count": 1,
   "id": "51d393f4-6aaf-419f-8711-42c5967fb96e",
   "metadata": {},
   "outputs": [],
   "source": [
    "import cv2 as cv\n",
    "import math\n",
    "import numpy as np"
   ]
  },
  {
   "cell_type": "code",
   "execution_count": null,
   "id": "9dbfd095-79f4-43e7-94b1-96bf6f781db7",
   "metadata": {},
   "outputs": [],
   "source": [
    "img = cv.imread('descarga.jpg', 0)\n",
    "h,w=img.shape[:2] #solo saco propiedades de ancho y alto.\n",
    "\n",
    "#Creo img/matriz para meter la nueva img rotada.\n",
    "img2 = np.zeros((h*3, w*3), dtype=\"uint8\") #Creo matriz de 0s, x3 veces mas grande de alto y ancho, \"dtype = uint8\" enteros sin signos de 8 bytes\n",
    "\n",
    "#Recorrer matriz\n",
    "for i in range(h):\n",
    "    for j in range(w):\n",
    "        # Rotacion: cos, sen - Traslado: +200, +50\n",
    "       img2[int(i*(math.cos(math.radians(30)))-j*(math.sin(math.radians(30))))+200, \n",
    "            int(i*(math.sin(math.radians(30)))+j*(math.cos(math.radians(30))))+50]=img[i,j]\n",
    "\n",
    "cv.imshow('Imagen1', img)\n",
    "cv.imshow('Imagen2', img2) \n",
    "cv.waitKey(0) #Hace que no se cierre ventana enseguida, que espere. \n",
    "cv.destroyAllWindows()"
   ]
  },
  {
   "cell_type": "code",
   "execution_count": null,
   "id": "2be04f2f-7863-495f-b955-24f74c2d50c3",
   "metadata": {},
   "outputs": [],
   "source": []
  },
  {
   "cell_type": "code",
   "execution_count": null,
   "id": "400f8ab2-0b5b-4e43-aa8e-a9209c2f4a3f",
   "metadata": {},
   "outputs": [],
   "source": []
  }
 ],
 "metadata": {
  "kernelspec": {
   "display_name": "Python 3 (ipykernel)",
   "language": "python",
   "name": "python3"
  },
  "language_info": {
   "codemirror_mode": {
    "name": "ipython",
    "version": 3
   },
   "file_extension": ".py",
   "mimetype": "text/x-python",
   "name": "python",
   "nbconvert_exporter": "python",
   "pygments_lexer": "ipython3",
   "version": "3.11.7"
  }
 },
 "nbformat": 4,
 "nbformat_minor": 5
}
