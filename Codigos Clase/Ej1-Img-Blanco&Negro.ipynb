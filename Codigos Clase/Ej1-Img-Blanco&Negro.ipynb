{
 "cells": [
  {
   "cell_type": "code",
   "execution_count": 1,
   "id": "5f3851b5-d06b-4b7f-97ed-885eb4ee8e2c",
   "metadata": {},
   "outputs": [],
   "source": [
    "import cv2 as cv #Correr libreria opencv"
   ]
  },
  {
   "cell_type": "code",
   "execution_count": 2,
   "id": "69ef560c-726d-4e2b-89da-4557ff4a858e",
   "metadata": {},
   "outputs": [],
   "source": [
    "img = cv.imread('descarga.jpg', 0) #variable para cargar imagen, puedo poner bandera 0, o 1.\n",
    "w,h=img.shape #sacar info de img, sacar atributos de ancho y largo\n",
    "#print(w,h,c)\n",
    "\n",
    "for i in range(w):\n",
    "    for j in range(h):\n",
    "        # img[i,j]=255-img[i,j]\n",
    "        if (img[i,j]>150):\n",
    "            img[i,j]=255\n",
    "        else: \n",
    "            img[i,j]=0\n",
    "\n",
    "cv.imshow('marco', img) #si sale '#' es q libreria sigue trabajando poner en \"Restart & clear output\"\n",
    "cv.waitKey(0)\n",
    "cv.destroyAllWindows()"
   ]
  },
  {
   "cell_type": "code",
   "execution_count": null,
   "id": "80ab9c9f-8267-43a3-b6db-f51da8c627a7",
   "metadata": {},
   "outputs": [],
   "source": []
  }
 ],
 "metadata": {
  "kernelspec": {
   "display_name": "Python 3 (ipykernel)",
   "language": "python",
   "name": "python3"
  },
  "language_info": {
   "codemirror_mode": {
    "name": "ipython",
    "version": 3
   },
   "file_extension": ".py",
   "mimetype": "text/x-python",
   "name": "python",
   "nbconvert_exporter": "python",
   "pygments_lexer": "ipython3",
   "version": "3.11.7"
  }
 },
 "nbformat": 4,
 "nbformat_minor": 5
}
