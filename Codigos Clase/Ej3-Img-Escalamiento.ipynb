{
 "cells": [
  {
   "cell_type": "code",
   "execution_count": 1,
   "id": "51d393f4-6aaf-419f-8711-42c5967fb96e",
   "metadata": {},
   "outputs": [],
   "source": [
    "import cv2 as cv #Correr \n",
    "import numpy as np #Libreria “numpy” es para que haga matriz de 0s o 1s, para el tamaño de la img"
   ]
  },
  {
   "cell_type": "code",
   "execution_count": 3,
   "id": "9dbfd095-79f4-43e7-94b1-96bf6f781db7",
   "metadata": {},
   "outputs": [],
   "source": [
    "img = cv.imread('descarga.jpg', 0) \n",
    "w,h=img.shape \n",
    "\n",
    "img2 = np.zeros((w*2, h*2), dtype=np.uint8)  #numpy haga matriz de 0s, del tamaño de img, con img.shape saco el tamaño de img\n",
    "cv.imshow('marco1', img) #mostrar marco\n",
    "\n",
    "for i in range(w):\n",
    "    for j in range(h):\n",
    "        img2[i*2,j*2]=img[i,j] #escalar - aplica transformacion geometrica a mi img, aplico escalar a mi img, en un valor de 2\n",
    "       #img2[i+20,j+20]=img[i,j] #traslacion\n",
    "\n",
    "cv.imshow('marco2', img2) \n",
    "cv.waitKey(0)\n",
    "cv.destroyAllWindows()"
   ]
  },
  {
   "cell_type": "code",
   "execution_count": null,
   "id": "cdd84ea1-11a2-4a12-ab4b-4236f830f156",
   "metadata": {},
   "outputs": [],
   "source": []
  },
  {
   "cell_type": "code",
   "execution_count": null,
   "id": "16e2740d-98c0-46ce-a377-eefe0f30d6c4",
   "metadata": {},
   "outputs": [],
   "source": []
  }
 ],
 "metadata": {
  "kernelspec": {
   "display_name": "Python 3 (ipykernel)",
   "language": "python",
   "name": "python3"
  },
  "language_info": {
   "codemirror_mode": {
    "name": "ipython",
    "version": 3
   },
   "file_extension": ".py",
   "mimetype": "text/x-python",
   "name": "python",
   "nbconvert_exporter": "python",
   "pygments_lexer": "ipython3",
   "version": "3.11.7"
  }
 },
 "nbformat": 4,
 "nbformat_minor": 5
}
