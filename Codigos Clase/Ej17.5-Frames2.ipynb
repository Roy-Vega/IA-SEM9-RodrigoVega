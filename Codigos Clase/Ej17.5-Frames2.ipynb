{
 "cells": [
  {
   "cell_type": "code",
   "execution_count": 1,
   "id": "51d393f4-6aaf-419f-8711-42c5967fb96e",
   "metadata": {},
   "outputs": [],
   "source": [
    "import numpy as np\n",
    "import cv2 as cv \n",
    "rostro = cv.CascadeClassifier('haarcascade_frontalface_alt.xml')"
   ]
  },
  {
   "cell_type": "code",
   "execution_count": 2,
   "id": "2be04f2f-7863-495f-b955-24f74c2d50c3",
   "metadata": {},
   "outputs": [],
   "source": [
    "#GUARDAR FRAMES CARA VERSION 1, CON RESIZE - VERSION PROFE\n",
    "\n",
    "cap = cv.VideoCapture(0)\n",
    "i = 0 #contardor para img\n",
    "while True: \n",
    "    ret, frame = cap.read()\n",
    "    \n",
    "    gray = cv.cvtColor(frame, cv.COLOR_BGR2GRAY) \n",
    "\n",
    "    #detectar caras en la escala de grises\n",
    "    rostros = rostro.detectMultiScale(gray, 1.3, 5) \n",
    "    \n",
    "    for(x, y, w, h) in rostros: #iterar sobre rostros detectados\n",
    "        frame2 = frame[y:y+h,x:x+w] #extraer frame de la cara\n",
    "\n",
    "        #resize, cambiar el tamaño a 100x100 pixeles\n",
    "        resize_img=cv.resize(frame2, (100,100),interpolation=cv.INTER_AREA) #por default ya usa una forma para llenar pixeles, si hago escalamiento grande (rellena img) y si hace mas peque la img, (compacta pixeles)\n",
    "\n",
    "        cv.imshow('frame', frame2) #frame orignal\n",
    "        cv.imshow('resize',resize_img) #frame 100x100\n",
    "        \n",
    "        cv.imwrite('caras\\\\martin\\\\martin'+str(i)+'.png',resize_img) #guardar frame en img\n",
    "\n",
    "    \n",
    "    cv.imshow('cara', frame) #mostrar frame con deteccion de cara\n",
    "    \n",
    "    i=i+1 #incrementar contador\n",
    "    \n",
    "    k = cv.waitKey(1) \n",
    "    if k == 27:\n",
    "        break\n",
    "cap.release()\n",
    "cv.destroyAllWindows()\n",
    "    "
   ]
  },
  {
   "cell_type": "code",
   "execution_count": null,
   "id": "08303e76-4868-4cf9-8997-9a0477675246",
   "metadata": {},
   "outputs": [],
   "source": []
  }
 ],
 "metadata": {
  "kernelspec": {
   "display_name": "Python 3 (ipykernel)",
   "language": "python",
   "name": "python3"
  },
  "language_info": {
   "codemirror_mode": {
    "name": "ipython",
    "version": 3
   },
   "file_extension": ".py",
   "mimetype": "text/x-python",
   "name": "python",
   "nbconvert_exporter": "python",
   "pygments_lexer": "ipython3",
   "version": "3.11.7"
  }
 },
 "nbformat": 4,
 "nbformat_minor": 5
}
