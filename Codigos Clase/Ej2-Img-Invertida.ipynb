{
 "cells": [
  {
   "cell_type": "code",
   "execution_count": 1,
   "id": "5f3851b5-d06b-4b7f-97ed-885eb4ee8e2c",
   "metadata": {},
   "outputs": [],
   "source": [
    "import cv2 as cv #Correr"
   ]
  },
  {
   "cell_type": "code",
   "execution_count": 2,
   "id": "69ef560c-726d-4e2b-89da-4557ff4a858e",
   "metadata": {},
   "outputs": [],
   "source": [
    "img = cv.imread('descarga.jpg', 0) \n",
    "w,h=img.shape \n",
    "#print(w,h,c)\n",
    "\n",
    "for i in range(w):\n",
    "    for j in range(h):\n",
    "        img[i,j]=255-img[i,j]\n",
    "        # if (img[i,j]>150):\n",
    "        #     img[i,j]=255\n",
    "        # else: \n",
    "        #     img[i,j]=0\n",
    "\n",
    "cv.imshow('marco', img)\n",
    "cv.waitKey(0)\n",
    "cv.destroyAllWindows()"
   ]
  },
  {
   "cell_type": "code",
   "execution_count": null,
   "id": "285556fd-4a11-4153-9ee7-81dff280907a",
   "metadata": {},
   "outputs": [],
   "source": []
  },
  {
   "cell_type": "code",
   "execution_count": null,
   "id": "5938486f-9fa5-4d73-8328-52b3c3acc2db",
   "metadata": {},
   "outputs": [],
   "source": []
  }
 ],
 "metadata": {
  "kernelspec": {
   "display_name": "Python 3 (ipykernel)",
   "language": "python",
   "name": "python3"
  },
  "language_info": {
   "codemirror_mode": {
    "name": "ipython",
    "version": 3
   },
   "file_extension": ".py",
   "mimetype": "text/x-python",
   "name": "python",
   "nbconvert_exporter": "python",
   "pygments_lexer": "ipython3",
   "version": "3.11.7"
  }
 },
 "nbformat": 4,
 "nbformat_minor": 5
}
